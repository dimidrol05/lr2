{
 "cells": [
  {
   "cell_type": "code",
   "execution_count": 15,
   "id": "0e5de2a3",
   "metadata": {},
   "outputs": [],
   "source": [
    "from pptx import Presentation\n",
    "\n",
    "def replace_text_in_pptx(pptx_file_path, replacements):\n",
    "    presentation = Presentation(pptx_file_path)\n",
    "\n",
    "    for slide in presentation.slides:\n",
    "        for shape in slide.shapes:\n",
    "            if shape.has_text_frame:\n",
    "                for paragraph in shape.text_frame.paragraphs:\n",
    "                    for run in paragraph.runs:\n",
    "                        for old_text, new_text in replacements.items():\n",
    "                            run.text = run.text.replace(old_text, new_text)\n",
    "\n",
    "    presentation.save('output.pptx')\n",
    "\n",
    "# Пример использования\n",
    "file_path = r'Сертификат выдан.pptx'\n",
    "text_replacements ={\n",
    "    'FAM':'Фамилия',\n",
    "    'Proffessia':'Заданая профессия'}\n",
    "\n",
    "replace_text_in_pptx(file_path, text_replacements)"
   ]
  },
  {
   "cell_type": "code",
   "execution_count": 14,
   "id": "85ffcb54",
   "metadata": {},
   "outputs": [
    {
     "name": "stdout",
     "output_type": "stream",
     "text": [
      "Requirement already satisfied: python-pptx in d:\\anacondasss\\envs\\p42\\lib\\site-packages (0.6.23)\n",
      "Requirement already satisfied: Pillow>=3.3.2 in d:\\anacondasss\\envs\\p42\\lib\\site-packages (from python-pptx) (10.1.0)\n",
      "Requirement already satisfied: XlsxWriter>=0.5.7 in d:\\anacondasss\\envs\\p42\\lib\\site-packages (from python-pptx) (3.1.9)\n",
      "Requirement already satisfied: lxml>=3.1.0 in d:\\anacondasss\\envs\\p42\\lib\\site-packages (from python-pptx) (4.9.1)\n",
      "Note: you may need to restart the kernel to use updated packages.\n"
     ]
    }
   ],
   "source": []
  },
  {
   "cell_type": "code",
   "execution_count": null,
   "id": "7081529f",
   "metadata": {},
   "outputs": [],
   "source": []
  }
 ],
 "metadata": {
  "kernelspec": {
   "display_name": "Python 3 (ipykernel)",
   "language": "python",
   "name": "python3"
  },
  "language_info": {
   "codemirror_mode": {
    "name": "ipython",
    "version": 3
   },
   "file_extension": ".py",
   "mimetype": "text/x-python",
   "name": "python",
   "nbconvert_exporter": "python",
   "pygments_lexer": "ipython3",
   "version": "3.9.16"
  }
 },
 "nbformat": 4,
 "nbformat_minor": 5
}
